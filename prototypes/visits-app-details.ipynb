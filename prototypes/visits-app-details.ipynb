{
 "cells": [
  {
   "cell_type": "code",
   "execution_count": 5,
   "metadata": {},
   "outputs": [],
   "source": [
    "import pandas as pd\n",
    "\n",
    "from matplotlib import pyplot as plt\n",
    "import seaborn as sns\n",
    "\n",
    "from edsteva.probes import VisitProbe\n",
    "from edsteva.utils.file_management import load_object\n",
    "\n",
    "from ipywidgets import interactive, widgets\n",
    "\n",
    "import time\n",
    "\n",
    "from utils import debounce, first_digit_after\n",
    "\n",
    "sns.set_style(\"whitegrid\")\n",
    "default_color_list = ['#1f77b4', '#ff7f0e', '#2ca02c', '#d62728', '#9467bd', '#8c564b', '#e377c2', '#7f7f7f', '#bcbd22', '#17becf']\n",
    "default_linestyle_list = ['-', '--', '-.', ':', 'None', ' ', '', 'solid', 'dashed', 'dashdot', 'dotted']"
   ]
  },
  {
   "cell_type": "code",
   "execution_count": 10,
   "metadata": {},
   "outputs": [
    {
     "name": "stderr",
     "output_type": "stream",
     "text": [
      "\u001b[32m2023-11-23 10:20:01.408\u001b[0m | \u001b[1mINFO    \u001b[0m | \u001b[36medsteva.utils.file_management\u001b[0m:\u001b[36mload_object\u001b[0m:\u001b[36m20\u001b[0m - \u001b[1mSuccessfully loaded from ../results/predictors/visits_synthetic_base.pkl\u001b[0m\n"
     ]
    }
   ],
   "source": [
    "path = \"../results/predictors/visits_synthetic_base.pkl\"\n",
    "visits = VisitProbe()\n",
    "visits.load(path)\n",
    "\n",
    "visits.predictor = visits.predictor.drop(columns=[ \"stay_source\", \"c\"])"
   ]
  },
  {
   "cell_type": "code",
   "execution_count": 31,
   "metadata": {},
   "outputs": [],
   "source": [
    "hospitals = visits.predictor[visits.predictor.care_site_level == \"Hôpital\"].care_site_short_name.unique().tolist()\n",
    "ufs = visits.predictor[visits.predictor.care_site_level == \"Unité Fonctionnelle (UF)\"].care_site_short_name.unique().tolist()\n",
    "\n",
    "ufs_dict = {\n",
    "    hospital : [uf for uf in ufs if first_digit_after(\"-\", hospital) == first_digit_after(\"-\",uf)]\n",
    "    for hospital in hospitals\n",
    "}"
   ]
  },
  {
   "cell_type": "code",
   "execution_count": 33,
   "metadata": {},
   "outputs": [
    {
     "name": "stderr",
     "output_type": "stream",
     "text": [
      "\u001b[32m2023-11-23 10:26:54.258\u001b[0m | \u001b[1mINFO    \u001b[0m | \u001b[36medsteva.utils.file_management\u001b[0m:\u001b[36mload_object\u001b[0m:\u001b[36m20\u001b[0m - \u001b[1mSuccessfully loaded from ../results/models/fitted_visits.pkl\u001b[0m\n",
      "C:\\Users\\7046680\\AppData\\Local\\Packages\\PythonSoftwareFoundation.Python.3.7_qbz5n2kfra8p0\\LocalCache\\local-packages\\Python37\\site-packages\\ipykernel_launcher.py:4: UserWarning: Pandas doesn't allow columns to be created via a new attribute name - see https://pandas.pydata.org/pandas-docs/stable/indexing.html#attribute-access\n",
      "  after removing the cwd from sys.path.\n"
     ]
    }
   ],
   "source": [
    "path = \"../results/models/fitted_visits.pkl\"\n",
    "rectangle_function_model = load_object(path)\n",
    "estimates = rectangle_function_model.estimates\n",
    "estimates.care_site_short_name = estimates.care_site_level + \"-\" + estimates.care_site_id"
   ]
  },
  {
   "cell_type": "code",
   "execution_count": 54,
   "metadata": {},
   "outputs": [
    {
     "data": {
      "application/vnd.jupyter.widget-view+json": {
       "model_id": "135726dc0e5449468d952698f242ff69",
       "version_major": 2,
       "version_minor": 0
      },
      "text/plain": [
       "VBox(children=(HBox(children=(SelectMultiple(description='Hôpital :', index=(0,), options=('Hôpital-1', 'Hôpit…"
      ]
     },
     "metadata": {},
     "output_type": "display_data"
    }
   ],
   "source": [
    "output = widgets.Output()\n",
    "\n",
    "hospital_w = widgets.SelectMultiple(\n",
    "    options=hospitals,\n",
    "    value=['Hôpital-1'],\n",
    "    rows=5,\n",
    "    description='Hôpital :',\n",
    "    continuous_update=False\n",
    ")\n",
    "\n",
    "stay_type_w = widgets.SelectMultiple(\n",
    "    options=['urgences', 'hospitalisés', 'consultation',],\n",
    "    value=[\"hospitalisés\"],\n",
    "    rows=5,\n",
    "    description='Stay type :',\n",
    ")\n",
    "\n",
    "uf_w = widgets.SelectMultiple(\n",
    "    options=ufs_dict['Hôpital-1'] + [\"no UF\"],\n",
    "    value=[\"no UF\"],\n",
    "    rows=5,\n",
    "    description='UF :',\n",
    ")\n",
    "\n",
    "@debounce(0.2)\n",
    "def update(*args):\n",
    "    with output:\n",
    "        ufs_hospital = []\n",
    "        for hospital in hospital_w.value:\n",
    "            ufs_hospital += ufs_dict[hospital]\n",
    "        uf_w.options = ufs_hospital + [\"no UF\"]\n",
    "        uf_w.value = [\"no UF\"]\n",
    "        \n",
    "hospital_w.observe(update)\n",
    "\n",
    "def plot_function(hospital, stay_type, ufs):\n",
    "    \n",
    "    fig, axs = plt.subplots(ncols=2, figsize=(15, 5))\n",
    "    predictor = visits.predictor.copy()\n",
    "    for i, hospit in enumerate(hospital):\n",
    "        sub_predictor = predictor[predictor.care_site_short_name == hospit]\n",
    "        for k, t in enumerate(stay_type):\n",
    "            axs[0].plot(sub_predictor[sub_predictor.stay_type == t].date, \n",
    "                     sub_predictor[sub_predictor.stay_type == t].n_visit, \n",
    "                     linestyle=default_linestyle_list[k], \n",
    "                     c=default_color_list[i % len(default_color_list)], label=hospit+\"-\"+t)\n",
    "    axs[0].legend()\n",
    "    axs[0].set_title(\"Hôpital\")\n",
    "    \n",
    "    ufs = [] if \"no UF\" in ufs else ufs\n",
    "    for i, uf in enumerate(ufs):\n",
    "        sub_predictor = predictor[predictor.care_site_short_name == uf]\n",
    "        for k, t in enumerate(stay_type):\n",
    "            axs[1].plot(sub_predictor[sub_predictor.stay_type == t].date, \n",
    "                     sub_predictor[sub_predictor.stay_type == t].n_visit, \n",
    "                     linestyle=default_linestyle_list[k], \n",
    "                     c=default_color_list[i % len(default_color_list)], label=uf+\"-\"+t)\n",
    "    axs[1].legend() if ufs != [] else None\n",
    "    axs[1].set_title(\"UF\")\n",
    "\n",
    "    model = estimates[estimates.stay_type.isin(stay_type) \n",
    "                      & (estimates.care_site_short_name.isin(hospital)\n",
    "                         | estimates.care_site_short_name.isin(ufs)\n",
    "                         )\n",
    "                      ].reset_index(drop=True)\n",
    "    plt.show()\n",
    "\n",
    "    model.style.set_caption(\"Care site deployment model\")\n",
    "    display(model)\n",
    "\n",
    "    \n",
    "w = interactive(plot_function, hospital=hospital_w, stay_type=stay_type_w, ufs=uf_w, continuous_update=False);\n",
    "\n",
    "controls = widgets.HBox(w.children[:-1])\n",
    "output = w.children[-1]\n",
    "display(widgets.VBox([controls, output]))"
   ]
  }
 ],
 "metadata": {
  "kernelspec": {
   "display_name": "app-env",
   "language": "python",
   "name": "python3"
  },
  "language_info": {
   "codemirror_mode": {
    "name": "ipython",
    "version": 3
   },
   "file_extension": ".py",
   "mimetype": "text/x-python",
   "name": "python",
   "nbconvert_exporter": "python",
   "pygments_lexer": "ipython3",
   "version": "3.7.9"
  }
 },
 "nbformat": 4,
 "nbformat_minor": 2
}
